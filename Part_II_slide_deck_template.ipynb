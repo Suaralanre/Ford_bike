{
 "cells": [
  {
   "cell_type": "markdown",
   "metadata": {
    "slideshow": {
     "slide_type": "slide"
    }
   },
   "source": [
    "# San Francisco's BAY AREA FORD GO BIKE SHARING SERVICE\n",
    "## by Mohammed Suara"
   ]
  },
  {
   "cell_type": "markdown",
   "metadata": {
    "slideshow": {
     "slide_type": "slide"
    }
   },
   "source": [
    "\n",
    "## Investigation Overview\n",
    "> In this investigation, I want to determine possible factors that contribute to increased usage of the service.\n",
    "\n",
    "\n",
    "\n",
    "## Dataset Overview\n",
    "\n",
    "> There are about 175 000 rows and 23 columns each with information about various aspects of the bike trip and the rider. Major attributes of the trip include the duration, start day, start hour. Attributes of the rider include: age, gender, user-type. There are about the same amount of numeric and non-numeric variables in the dataset."
   ]
  },
  {
   "cell_type": "code",
   "execution_count": 1,
   "metadata": {
    "slideshow": {
     "slide_type": "skip"
    }
   },
   "outputs": [],
   "source": [
    "# import all packages and set plots to be embedded inline\n",
    "import numpy as np\n",
    "import pandas as pd\n",
    "import matplotlib.pyplot as plt\n",
    "import seaborn as sb\n",
    "\n",
    "%matplotlib inline\n",
    "\n",
    "# suppress warnings from final output\n",
    "import warnings\n",
    "warnings.simplefilter(\"ignore\")"
   ]
  },
  {
   "cell_type": "code",
   "execution_count": 2,
   "metadata": {
    "slideshow": {
     "slide_type": "skip"
    }
   },
   "outputs": [
    {
     "data": {
      "text/html": [
       "<div>\n",
       "<style scoped>\n",
       "    .dataframe tbody tr th:only-of-type {\n",
       "        vertical-align: middle;\n",
       "    }\n",
       "\n",
       "    .dataframe tbody tr th {\n",
       "        vertical-align: top;\n",
       "    }\n",
       "\n",
       "    .dataframe thead th {\n",
       "        text-align: right;\n",
       "    }\n",
       "</style>\n",
       "<table border=\"1\" class=\"dataframe\">\n",
       "  <thead>\n",
       "    <tr style=\"text-align: right;\">\n",
       "      <th></th>\n",
       "      <th>Unnamed: 0</th>\n",
       "      <th>duration_sec</th>\n",
       "      <th>start_time</th>\n",
       "      <th>end_time</th>\n",
       "      <th>start_station_id</th>\n",
       "      <th>start_station_name</th>\n",
       "      <th>start_station_latitude</th>\n",
       "      <th>start_station_longitude</th>\n",
       "      <th>end_station_id</th>\n",
       "      <th>end_station_name</th>\n",
       "      <th>...</th>\n",
       "      <th>member_gender</th>\n",
       "      <th>bike_share_for_all_trip</th>\n",
       "      <th>duration_min</th>\n",
       "      <th>start_hour</th>\n",
       "      <th>end_hour</th>\n",
       "      <th>start_day</th>\n",
       "      <th>end_day</th>\n",
       "      <th>start_month</th>\n",
       "      <th>end_month</th>\n",
       "      <th>member_age</th>\n",
       "    </tr>\n",
       "  </thead>\n",
       "  <tbody>\n",
       "    <tr>\n",
       "      <th>0</th>\n",
       "      <td>0</td>\n",
       "      <td>52185</td>\n",
       "      <td>2019-02-28 17:32:10.145</td>\n",
       "      <td>2019-03-01 08:01:55.975</td>\n",
       "      <td>21.0</td>\n",
       "      <td>Montgomery St BART Station (Market St at 2nd St)</td>\n",
       "      <td>37.789625</td>\n",
       "      <td>-122.400811</td>\n",
       "      <td>13.0</td>\n",
       "      <td>Commercial St at Montgomery St</td>\n",
       "      <td>...</td>\n",
       "      <td>Male</td>\n",
       "      <td>No</td>\n",
       "      <td>869</td>\n",
       "      <td>17</td>\n",
       "      <td>8</td>\n",
       "      <td>Thursday</td>\n",
       "      <td>Friday</td>\n",
       "      <td>February</td>\n",
       "      <td>March</td>\n",
       "      <td>38</td>\n",
       "    </tr>\n",
       "    <tr>\n",
       "      <th>1</th>\n",
       "      <td>2</td>\n",
       "      <td>61854</td>\n",
       "      <td>2019-02-28 12:13:13.218</td>\n",
       "      <td>2019-03-01 05:24:08.146</td>\n",
       "      <td>86.0</td>\n",
       "      <td>Market St at Dolores St</td>\n",
       "      <td>37.769305</td>\n",
       "      <td>-122.426826</td>\n",
       "      <td>3.0</td>\n",
       "      <td>Powell St BART Station (Market St at 4th St)</td>\n",
       "      <td>...</td>\n",
       "      <td>Male</td>\n",
       "      <td>No</td>\n",
       "      <td>1030</td>\n",
       "      <td>12</td>\n",
       "      <td>5</td>\n",
       "      <td>Thursday</td>\n",
       "      <td>Friday</td>\n",
       "      <td>February</td>\n",
       "      <td>March</td>\n",
       "      <td>50</td>\n",
       "    </tr>\n",
       "    <tr>\n",
       "      <th>2</th>\n",
       "      <td>3</td>\n",
       "      <td>36490</td>\n",
       "      <td>2019-02-28 17:54:26.010</td>\n",
       "      <td>2019-03-01 04:02:36.842</td>\n",
       "      <td>375.0</td>\n",
       "      <td>Grove St at Masonic Ave</td>\n",
       "      <td>37.774836</td>\n",
       "      <td>-122.446546</td>\n",
       "      <td>70.0</td>\n",
       "      <td>Central Ave at Fell St</td>\n",
       "      <td>...</td>\n",
       "      <td>Other</td>\n",
       "      <td>No</td>\n",
       "      <td>608</td>\n",
       "      <td>17</td>\n",
       "      <td>4</td>\n",
       "      <td>Thursday</td>\n",
       "      <td>Friday</td>\n",
       "      <td>February</td>\n",
       "      <td>March</td>\n",
       "      <td>33</td>\n",
       "    </tr>\n",
       "    <tr>\n",
       "      <th>3</th>\n",
       "      <td>4</td>\n",
       "      <td>1585</td>\n",
       "      <td>2019-02-28 23:54:18.549</td>\n",
       "      <td>2019-03-01 00:20:44.074</td>\n",
       "      <td>7.0</td>\n",
       "      <td>Frank H Ogawa Plaza</td>\n",
       "      <td>37.804562</td>\n",
       "      <td>-122.271738</td>\n",
       "      <td>222.0</td>\n",
       "      <td>10th Ave at E 15th St</td>\n",
       "      <td>...</td>\n",
       "      <td>Male</td>\n",
       "      <td>Yes</td>\n",
       "      <td>26</td>\n",
       "      <td>23</td>\n",
       "      <td>0</td>\n",
       "      <td>Thursday</td>\n",
       "      <td>Friday</td>\n",
       "      <td>February</td>\n",
       "      <td>March</td>\n",
       "      <td>48</td>\n",
       "    </tr>\n",
       "    <tr>\n",
       "      <th>4</th>\n",
       "      <td>5</td>\n",
       "      <td>1793</td>\n",
       "      <td>2019-02-28 23:49:58.632</td>\n",
       "      <td>2019-03-01 00:19:51.760</td>\n",
       "      <td>93.0</td>\n",
       "      <td>4th St at Mission Bay Blvd S</td>\n",
       "      <td>37.770407</td>\n",
       "      <td>-122.391198</td>\n",
       "      <td>323.0</td>\n",
       "      <td>Broadway at Kearny</td>\n",
       "      <td>...</td>\n",
       "      <td>Male</td>\n",
       "      <td>No</td>\n",
       "      <td>29</td>\n",
       "      <td>23</td>\n",
       "      <td>0</td>\n",
       "      <td>Thursday</td>\n",
       "      <td>Friday</td>\n",
       "      <td>February</td>\n",
       "      <td>March</td>\n",
       "      <td>63</td>\n",
       "    </tr>\n",
       "  </tbody>\n",
       "</table>\n",
       "<p>5 rows × 24 columns</p>\n",
       "</div>"
      ],
      "text/plain": [
       "   Unnamed: 0  duration_sec               start_time                 end_time  \\\n",
       "0           0         52185  2019-02-28 17:32:10.145  2019-03-01 08:01:55.975   \n",
       "1           2         61854  2019-02-28 12:13:13.218  2019-03-01 05:24:08.146   \n",
       "2           3         36490  2019-02-28 17:54:26.010  2019-03-01 04:02:36.842   \n",
       "3           4          1585  2019-02-28 23:54:18.549  2019-03-01 00:20:44.074   \n",
       "4           5          1793  2019-02-28 23:49:58.632  2019-03-01 00:19:51.760   \n",
       "\n",
       "   start_station_id                                start_station_name  \\\n",
       "0              21.0  Montgomery St BART Station (Market St at 2nd St)   \n",
       "1              86.0                           Market St at Dolores St   \n",
       "2             375.0                           Grove St at Masonic Ave   \n",
       "3               7.0                               Frank H Ogawa Plaza   \n",
       "4              93.0                      4th St at Mission Bay Blvd S   \n",
       "\n",
       "   start_station_latitude  start_station_longitude  end_station_id  \\\n",
       "0               37.789625              -122.400811            13.0   \n",
       "1               37.769305              -122.426826             3.0   \n",
       "2               37.774836              -122.446546            70.0   \n",
       "3               37.804562              -122.271738           222.0   \n",
       "4               37.770407              -122.391198           323.0   \n",
       "\n",
       "                               end_station_name  ...  member_gender  \\\n",
       "0                Commercial St at Montgomery St  ...           Male   \n",
       "1  Powell St BART Station (Market St at 4th St)  ...           Male   \n",
       "2                        Central Ave at Fell St  ...          Other   \n",
       "3                         10th Ave at E 15th St  ...           Male   \n",
       "4                            Broadway at Kearny  ...           Male   \n",
       "\n",
       "   bike_share_for_all_trip  duration_min start_hour end_hour start_day  \\\n",
       "0                       No           869         17        8  Thursday   \n",
       "1                       No          1030         12        5  Thursday   \n",
       "2                       No           608         17        4  Thursday   \n",
       "3                      Yes            26         23        0  Thursday   \n",
       "4                       No            29         23        0  Thursday   \n",
       "\n",
       "   end_day  start_month  end_month member_age  \n",
       "0   Friday     February      March         38  \n",
       "1   Friday     February      March         50  \n",
       "2   Friday     February      March         33  \n",
       "3   Friday     February      March         48  \n",
       "4   Friday     February      March         63  \n",
       "\n",
       "[5 rows x 24 columns]"
      ]
     },
     "execution_count": 2,
     "metadata": {},
     "output_type": "execute_result"
    }
   ],
   "source": [
    "# load in the dataset into a pandas dataframe\n",
    "df = pd.read_csv('bike_data_master.csv')\n",
    "df.head()"
   ]
  },
  {
   "cell_type": "markdown",
   "metadata": {
    "slideshow": {
     "slide_type": "notes"
    }
   },
   "source": [
    "> Note that the above cells have been set as \"Skip\"-type slides. That means\n",
    "that when the notebook is rendered as http slides, those cells won't show up."
   ]
  },
  {
   "cell_type": "markdown",
   "metadata": {
    "slideshow": {
     "slide_type": "slide"
    }
   },
   "source": [
    "## DISTRIBUTION OF AGE\n",
    "\n",
    "> Least age is 21 and the highest age was 95. The distributions are right skewed with a peak at around 31 - 36 age groups.\n",
    "\n",
    ">The histogram has been trimmed to focus on the denser part of the histogram cutting out the extreme age groups of 91-96 and the non existent 0 - 20 age groups."
   ]
  },
  {
   "cell_type": "code",
   "execution_count": 3,
   "metadata": {
    "slideshow": {
     "slide_type": "subslide"
    }
   },
   "outputs": [
    {
     "data": {
      "image/png": "[encoded data removed]",
      "text/plain": [
       "<Figure size 1440x360 with 1 Axes>"
      ]
     },
     "metadata": {
      "needs_background": "light"
     },
     "output_type": "display_data"
    }
   ],
   "source": [
    "# frequency distribution member_age\n",
    "\n",
    "plt.figure(figsize=[20, 5])\n",
    "\n",
    "bins = np.arange(20.5, df['member_age'].max()+5, 5)\n",
    "plt.hist(data=df, x='member_age', bins=bins)\n",
    "\n",
    "ticks = np.arange(21, 100, 5)\n",
    "labels = ['{}'.format(x) for x in ticks]\n",
    "plt.xticks(ticks, labels)\n",
    "plt.title('TRIMMED Frequency Distribution of Member Ages for each bike trip', pad=15)\n",
    "plt.xlabel('MEMBER AGE FOR BIKE TRIPS', labelpad=15)\n",
    "plt.ylabel('FREQUENCY', labelpad= 15);\n",
    "plt.xlim(21, 81);"
   ]
  },
  {
   "cell_type": "markdown",
   "metadata": {
    "collapsed": true,
    "slideshow": {
     "slide_type": "slide"
    }
   },
   "source": [
    "## DISTRIBUTION OF THE DURATION FOR BIKE TRIPS.\n",
    "\n",
    "> The duration(min) posed a challenge as it showed a high range with extreme ends of values. Most of the data however fell below 40mins and the frequency distribution was accordinly transformed to reveal this important information.\n",
    "\n",
    "> Most trips have a duration of 40mins or less with a peak at 5mins. The distribution is right skewed."
   ]
  },
  {
   "cell_type": "code",
   "execution_count": 4,
   "metadata": {
    "slideshow": {
     "slide_type": "subslide"
    }
   },
   "outputs": [
    {
     "data": {
      "image/png": "[encoded data removed]",
      "text/plain": [
       "<Figure size 432x288 with 1 Axes>"
      ]
     },
     "metadata": {
      "needs_background": "light"
     },
     "output_type": "display_data"
    }
   ],
   "source": [
    "# distribution of the duration(min) for bike trips\n",
    "\n",
    "plt.hist(data=df, x='duration_min', bins=1000)\n",
    "plt.title('DISTRIBUTION OF DURATION FOR THE BIKE TRIPS', pad=15)\n",
    "plt.xlim(0, 40);"
   ]
  },
  {
   "cell_type": "markdown",
   "metadata": {
    "slideshow": {
     "slide_type": "slide"
    }
   },
   "source": [
    "## AVERAGE DURATION SPENT BY EACH AGE GROUP.\n",
    "\n",
    "> Suprisingly, age groups 80-89 had the highest average duration spent on trips. The middle-age groups spent on the average about a minute more the younger age groups. Rather unsuprisingly, the least average duration was spent by the 90-99 age groups.\n",
    "\n"
   ]
  },
  {
   "cell_type": "code",
   "execution_count": 5,
   "metadata": {
    "slideshow": {
     "slide_type": "skip"
    }
   },
   "outputs": [],
   "source": [
    "''' \n",
    "I will divide the different member_age into different age groups e.g. 10-19, 20-29 etc.\n",
    "This creates a new column from the existing member_age \n",
    "\n",
    "'''\n",
    "\n",
    "labels = ['20-29', '30-39', '40-49', '50-59', '60-69', '70-79', '80-89', '90-99']\n",
    "\n",
    "df['age_groups'] = pd.cut(df['member_age'], bins=[20, 30, 40, 50, 60, 70, 80, 90, 100], labels=labels)\n",
    "\n",
    "df['age_groups'] = df['age_groups'].astype('category')"
   ]
  },
  {
   "cell_type": "code",
   "execution_count": 6,
   "metadata": {
    "slideshow": {
     "slide_type": "subslide"
    }
   },
   "outputs": [
    {
     "data": {
      "image/png": "[encoded data removed]",
      "text/plain": [
       "<Figure size 432x288 with 1 Axes>"
      ]
     },
     "metadata": {
      "needs_background": "light"
     },
     "output_type": "display_data"
    }
   ],
   "source": [
    "# average duration spent by different age groups\n",
    "color = sb.color_palette()[2]\n",
    "sb.barplot(data=df, x='age_groups', y='duration_min', ci=None, color=color)\n",
    "plt.title(\"PLOT SHOWING THE AVERAGE DURATION OF TRIPS BY EACH AGE GROUP.\", pad=15);"
   ]
  },
  {
   "cell_type": "markdown",
   "metadata": {
    "slideshow": {
     "slide_type": "slide"
    }
   },
   "source": [
    "## DURATION SPENT BY EACH GENDER FOR EACH DAY OF THE WEEK.\n",
    "\n",
    "> There was consistency in the average duration spent on trips by the genders. It was consistently \"Other\" > \"Female\" > \"Male\"\n",
    "for everyday of the week. Perhaps the Males don't fancy travelling longer trips on bikes or are able to cycle faster!"
   ]
  },
  {
   "cell_type": "code",
   "execution_count": 7,
   "metadata": {
    "slideshow": {
     "slide_type": "subslide"
    }
   },
   "outputs": [
    {
     "data": {
      "image/png": "[encoded data removed]",
      "text/plain": [
       "<Figure size 864x504 with 1 Axes>"
      ]
     },
     "metadata": {
      "needs_background": "light"
     },
     "output_type": "display_data"
    }
   ],
   "source": [
    "# Creating a barplot showing start_day against duration for each gender\n",
    "\n",
    "plt.figure(figsize=(12, 7))\n",
    "order = ['Sunday', 'Monday', 'Tuesday', 'Wednesday', 'Thursday', 'Friday', 'Saturday']\n",
    "sb.barplot(data=df, x='start_day', y='duration_min', hue='member_gender', order=order, ci=None)\n",
    "plt.xlabel(\"DAY OF THE WEEK\", labelpad=16)\n",
    "plt.ylabel(\"DURATION(mins)\", labelpad=16)\n",
    "plt.title('AVERAGE DURATION FOR EACH GENDER DURING THE WEEK.', pad=10);"
   ]
  }
 ],
 "metadata": {
  "celltoolbar": "Slideshow",
  "kernelspec": {
   "display_name": "Python 3 (ipykernel)",
   "language": "python",
   "name": "python3"
  },
  "language_info": {
   "codemirror_mode": {
    "name": "ipython",
    "version": 3
   },
   "file_extension": ".py",
   "mimetype": "text/x-python",
   "name": "python",
   "nbconvert_exporter": "python",
   "pygments_lexer": "ipython3",
   "version": "3.9.12"
  }
 },
 "nbformat": 4,
 "nbformat_minor": 2
}
